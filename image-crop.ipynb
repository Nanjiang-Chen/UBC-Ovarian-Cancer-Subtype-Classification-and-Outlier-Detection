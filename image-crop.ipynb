{
 "cells": [
  {
   "cell_type": "code",
   "execution_count": 1,
   "id": "c8c524b7",
   "metadata": {
    "_cell_guid": "b1076dfc-b9ad-4769-8c92-a6c4dae69d19",
    "_kg_hide-input": true,
    "_kg_hide-output": true,
    "_uuid": "8f2839f25d086af736a60e9eeb907d3b93b6e0e5",
    "execution": {
     "iopub.execute_input": "2023-12-22T06:55:03.605918Z",
     "iopub.status.busy": "2023-12-22T06:55:03.604366Z",
     "iopub.status.idle": "2023-12-22T06:56:27.804293Z",
     "shell.execute_reply": "2023-12-22T06:56:27.802821Z"
    },
    "papermill": {
     "duration": 84.211563,
     "end_time": "2023-12-22T06:56:27.807273",
     "exception": false,
     "start_time": "2023-12-22T06:55:03.595710",
     "status": "completed"
    },
    "tags": []
   },
   "outputs": [
    {
     "name": "stderr",
     "output_type": "stream",
     "text": [
      "'ls' is not recognized as an internal or external command,\n",
      "operable program or batch file.\n",
      "'dpkg' is not recognized as an internal or external command,\n",
      "operable program or batch file.\n"
     ]
    },
    {
     "name": "stdout",
     "output_type": "stream",
     "text": [
      "Looking in links: /kaggle/input/pyvips-python-and-deb-package/python_packages/"
     ]
    },
    {
     "name": "stderr",
     "output_type": "stream",
     "text": [
      "WARNING: Location '/kaggle/input/pyvips-python-and-deb-package/python_packages/' is ignored: it is either a non-existing path or lacks a specific scheme.\n",
      "ERROR: Could not find a version that satisfies the requirement pyvips (from versions: none)\n",
      "ERROR: No matching distribution found for pyvips\n"
     ]
    },
    {
     "name": "stdout",
     "output_type": "stream",
     "text": [
      "\n"
     ]
    }
   ],
   "source": [
    "!ls /kaggle/input/pyvips-python-and-deb-package\n",
    "# intall the deb packages\n",
    "!dpkg -i --force-depends /kaggle/input/pyvips-python-and-deb-package/linux_packages/archives/*.deb\n",
    "# install the python wrapper\n",
    "!pip install pyvips -f /kaggle/input/pyvips-python-and-deb-package/python_packages/ --no-index"
   ]
  },
  {
   "cell_type": "code",
   "execution_count": 2,
   "id": "b7ae8303",
   "metadata": {
    "_kg_hide-input": true,
    "execution": {
     "iopub.execute_input": "2023-12-22T06:56:27.912669Z",
     "iopub.status.busy": "2023-12-22T06:56:27.911978Z",
     "iopub.status.idle": "2023-12-22T06:56:32.794240Z",
     "shell.execute_reply": "2023-12-22T06:56:32.792873Z"
    },
    "papermill": {
     "duration": 4.938127,
     "end_time": "2023-12-22T06:56:32.796970",
     "exception": false,
     "start_time": "2023-12-22T06:56:27.858843",
     "status": "completed"
    },
    "tags": []
   },
   "outputs": [
    {
     "ename": "ModuleNotFoundError",
     "evalue": "No module named 'pyvips'",
     "output_type": "error",
     "traceback": [
      "\u001b[1;31m---------------------------------------------------------------------------\u001b[0m",
      "\u001b[1;31mModuleNotFoundError\u001b[0m                       Traceback (most recent call last)",
      "Cell \u001b[1;32mIn[2], line 2\u001b[0m\n\u001b[0;32m      1\u001b[0m \u001b[38;5;28;01mimport\u001b[39;00m \u001b[38;5;21;01mos\u001b[39;00m\u001b[38;5;241m,\u001b[39m \u001b[38;5;21;01mglob\u001b[39;00m\n\u001b[1;32m----> 2\u001b[0m \u001b[38;5;28;01mimport\u001b[39;00m \u001b[38;5;21;01mpyvips\u001b[39;00m\n\u001b[0;32m      3\u001b[0m \u001b[38;5;28;01mimport\u001b[39;00m \u001b[38;5;21;01mnumpy\u001b[39;00m \u001b[38;5;28;01mas\u001b[39;00m \u001b[38;5;21;01mnp\u001b[39;00m\n\u001b[0;32m      4\u001b[0m \u001b[38;5;28;01mfrom\u001b[39;00m \u001b[38;5;21;01mPIL\u001b[39;00m \u001b[38;5;28;01mimport\u001b[39;00m Image\n",
      "\u001b[1;31mModuleNotFoundError\u001b[0m: No module named 'pyvips'"
     ]
    }
   ],
   "source": [
    "import os, glob\n",
    "import pyvips\n",
    "import numpy as np\n",
    "from PIL import Image\n",
    "\n",
    "os.environ['VIPS_DISC_THRESHOLD'] = '9gb'\n",
    "\n",
    "DATASET_IMAGES = \"/kaggle/input/UBC-OCEAN/train_images\"\n",
    "DATASET_MASKS = \"/kaggle/input/ubc-ovarian-cancer-competition-supplemental-masks\"\n",
    "\n",
    "!mkdir -p /kaggle/temp/images\n",
    "!mkdir -p /kaggle/temp/annotations\n",
    "!mkdir -p /kaggle/temp/masks\n",
    "\n",
    "!cp /kaggle/input/UBC-OCEAN/train.csv ."
   ]
  },
  {
   "cell_type": "code",
   "execution_count": 3,
   "id": "5d0b4c2c",
   "metadata": {
    "execution": {
     "iopub.execute_input": "2023-12-22T06:56:32.902860Z",
     "iopub.status.busy": "2023-12-22T06:56:32.902005Z",
     "iopub.status.idle": "2023-12-22T06:56:32.940693Z",
     "shell.execute_reply": "2023-12-22T06:56:32.938946Z"
    },
    "papermill": {
     "duration": 0.095052,
     "end_time": "2023-12-22T06:56:32.943972",
     "exception": false,
     "start_time": "2023-12-22T06:56:32.848920",
     "status": "completed"
    },
    "tags": []
   },
   "outputs": [
    {
     "name": "stdout",
     "output_type": "stream",
     "text": [
      "found masks: 75\n"
     ]
    }
   ],
   "source": [
    "ls_masks = sorted(glob.glob(os.path.join(DATASET_MASKS, \"*.png\")))[:75]\n",
    "print(f\"found masks: {len(ls_masks)}\")"
   ]
  },
  {
   "cell_type": "markdown",
   "id": "4f374ed5",
   "metadata": {
    "papermill": {
     "duration": 0.052709,
     "end_time": "2023-12-22T06:56:33.048924",
     "exception": false,
     "start_time": "2023-12-22T06:56:32.996215",
     "status": "completed"
    },
    "tags": []
   },
   "source": [
    "# Decompose image to tiles/grid 🖽"
   ]
  },
  {
   "cell_type": "code",
   "execution_count": 4,
   "id": "d9206eea",
   "metadata": {
    "execution": {
     "iopub.execute_input": "2023-12-22T06:56:33.155649Z",
     "iopub.status.busy": "2023-12-22T06:56:33.155196Z",
     "iopub.status.idle": "2023-12-22T06:56:33.170637Z",
     "shell.execute_reply": "2023-12-22T06:56:33.169545Z"
    },
    "papermill": {
     "duration": 0.071863,
     "end_time": "2023-12-22T06:56:33.173171",
     "exception": false,
     "start_time": "2023-12-22T06:56:33.101308",
     "status": "completed"
    },
    "tags": []
   },
   "outputs": [],
   "source": [
    "def extract_image_tiles(\n",
    "    p_img, folder, size: int = 2048, scale: float = 0.5,\n",
    "    drop_thr: float = 0.85, inds = None\n",
    ") -> list:\n",
    "    name, _ = os.path.splitext(os.path.basename(p_img))\n",
    "    im = pyvips.Image.new_from_file(p_img)\n",
    "    w = h = size\n",
    "    if not inds:\n",
    "        # https://stackoverflow.com/a/47581978/4521646\n",
    "        inds = [(y, y + h, x, x + w)\n",
    "                for y in range(0, im.height, h)\n",
    "                for x in range(0, im.width, w)]\n",
    "    files, idxs, k = [], [], 0\n",
    "    for idx in inds:\n",
    "        y, y_, x, x_ = idx\n",
    "        # https://libvips.github.io/pyvips/vimage.html#pyvips.Image.crop\n",
    "        tile = im.crop(x, y, min(w, im.width - x), min(h, im.height - y)).numpy()[..., :3]\n",
    "        if drop_thr is not None:\n",
    "            mask_bg = np.sum(tile, axis=2) == 0\n",
    "            if np.sum(mask_bg) >= (np.prod(mask_bg.shape) * drop_thr):\n",
    "                #print(f\"skip almost empty tile: {k:06}_{int(x_ / w)}-{int(y_ / h)}\")\n",
    "                continue\n",
    "        if tile.shape[:2] != (h, w):\n",
    "            tile_ = tile\n",
    "            tile_size = (h, w) if tile.ndim == 2 else (h, w, tile.shape[2])\n",
    "            tile = np.zeros(tile_size, dtype=tile.dtype)\n",
    "            tile[:tile_.shape[0], :tile_.shape[1], ...] = tile_\n",
    "        p_img = os.path.join(folder, f\"{k:05}_{int(x_ / w)}-{int(y_ / h)}.png\")\n",
    "        # print(tile.shape, tile.dtype, tile.min(), tile.max())\n",
    "        new_size = int(size * scale), int(size * scale)\n",
    "        Image.fromarray(tile).resize(new_size, Image.LANCZOS).save(p_img)\n",
    "        files.append(p_img)\n",
    "        idxs.append(idx)\n",
    "        k += 1\n",
    "    return files, idxs"
   ]
  },
  {
   "cell_type": "markdown",
   "id": "f0e4d220",
   "metadata": {
    "papermill": {
     "duration": 0.054456,
     "end_time": "2023-12-22T06:56:33.352775",
     "exception": false,
     "start_time": "2023-12-22T06:56:33.298319",
     "status": "completed"
    },
    "tags": []
   },
   "source": [
    "## Show the image tiles with segmentations"
   ]
  },
  {
   "cell_type": "code",
   "execution_count": 5,
   "id": "7cf1d7c2",
   "metadata": {
    "execution": {
     "iopub.execute_input": "2023-12-22T06:56:33.459178Z",
     "iopub.status.busy": "2023-12-22T06:56:33.458790Z",
     "iopub.status.idle": "2023-12-22T06:56:33.463278Z",
     "shell.execute_reply": "2023-12-22T06:56:33.462330Z"
    },
    "papermill": {
     "duration": 0.059855,
     "end_time": "2023-12-22T06:56:33.465611",
     "exception": false,
     "start_time": "2023-12-22T06:56:33.405756",
     "status": "completed"
    },
    "tags": []
   },
   "outputs": [],
   "source": [
    "from PIL import Image\n",
    "import matplotlib.pyplot as plt"
   ]
  },
  {
   "cell_type": "markdown",
   "id": "916a333f",
   "metadata": {
    "papermill": {
     "duration": 0.053815,
     "end_time": "2023-12-22T06:56:33.573655",
     "exception": false,
     "start_time": "2023-12-22T06:56:33.519840",
     "status": "completed"
    },
    "tags": []
   },
   "source": [
    "# Conver RGB annotation to labels"
   ]
  },
  {
   "cell_type": "code",
   "execution_count": 6,
   "id": "455d7516",
   "metadata": {
    "execution": {
     "iopub.execute_input": "2023-12-22T06:56:33.684875Z",
     "iopub.status.busy": "2023-12-22T06:56:33.684209Z",
     "iopub.status.idle": "2023-12-22T06:56:33.691380Z",
     "shell.execute_reply": "2023-12-22T06:56:33.690500Z"
    },
    "papermill": {
     "duration": 0.065395,
     "end_time": "2023-12-22T06:56:33.693551",
     "exception": false,
     "start_time": "2023-12-22T06:56:33.628156",
     "status": "completed"
    },
    "tags": []
   },
   "outputs": [],
   "source": [
    "def convert_rgb_to_labels(img_path: str, folder: str):\n",
    "    name = os.path.basename(img_path)\n",
    "    img = np.array(Image.open(img_path))\n",
    "    #plt.imshow(img)\n",
    "    bg = np.ones((img.shape[0], img.shape[1], 1)) * 128\n",
    "    stack = np.concatenate((bg, img), axis=2)\n",
    "    mask = np.argmax(stack, axis=2).astype(np.uint8)\n",
    "    #print(np.unique(mask))\n",
    "    #plt.imshow(mask)\n",
    "    img_path = os.path.join(folder, name)\n",
    "    Image.fromarray(mask).save(img_path) \n",
    "    return img_path\n",
    "\n"
   ]
  },
  {
   "cell_type": "markdown",
   "id": "9db931a4",
   "metadata": {
    "papermill": {
     "duration": 0.052289,
     "end_time": "2023-12-22T06:56:33.797389",
     "exception": false,
     "start_time": "2023-12-22T06:56:33.745100",
     "status": "completed"
    },
    "tags": []
   },
   "source": [
    "## Export all image tiles¶"
   ]
  },
  {
   "cell_type": "code",
   "execution_count": 7,
   "id": "2d4f344b",
   "metadata": {
    "execution": {
     "iopub.execute_input": "2023-12-22T06:56:33.905481Z",
     "iopub.status.busy": "2023-12-22T06:56:33.904811Z",
     "iopub.status.idle": "2023-12-22T06:56:37.215666Z",
     "shell.execute_reply": "2023-12-22T06:56:37.214146Z"
    },
    "papermill": {
     "duration": 3.368804,
     "end_time": "2023-12-22T06:56:37.219055",
     "exception": false,
     "start_time": "2023-12-22T06:56:33.850251",
     "status": "completed"
    },
    "tags": []
   },
   "outputs": [],
   "source": [
    "!mkdir -p /kaggle/tmp/train_images\n",
    "!mkdir -p /kaggle/tmp/train_annotations\n",
    "!mkdir -p /kaggle/tmp/train_masks"
   ]
  },
  {
   "cell_type": "code",
   "execution_count": 8,
   "id": "14907557",
   "metadata": {
    "execution": {
     "iopub.execute_input": "2023-12-22T06:56:37.328767Z",
     "iopub.status.busy": "2023-12-22T06:56:37.328299Z",
     "iopub.status.idle": "2023-12-22T06:56:37.339883Z",
     "shell.execute_reply": "2023-12-22T06:56:37.338613Z"
    },
    "papermill": {
     "duration": 0.070255,
     "end_time": "2023-12-22T06:56:37.342625",
     "exception": false,
     "start_time": "2023-12-22T06:56:37.272370",
     "status": "completed"
    },
    "tags": []
   },
   "outputs": [],
   "source": [
    "def extract_tiles_masks(\n",
    "    idx_name,\n",
    "    folder_img: str = \"/kaggle/tmp/train_images\",\n",
    "    folder_seg: str = \"/kaggle/tmp/train_annotations\",\n",
    "    folder_mask: str = \"/kaggle/tmp/train_masks\",\n",
    "    size: int = 2048, scale: float = 0.5, drop_thr: float = 0.6\n",
    ") -> None:\n",
    "    idx, name = idx_name\n",
    "    print(f\"processing #{idx}: {name}\")\n",
    "    \n",
    "    folder_img = os.path.join(folder_img, name)\n",
    "    os.makedirs(folder_img, exist_ok=True)\n",
    "    folder_seg = os.path.join(folder_seg, name)\n",
    "    os.makedirs(folder_seg, exist_ok=True)\n",
    "    folder_mask = os.path.join(folder_mask, name)\n",
    "    os.makedirs(folder_mask, exist_ok=True)\n",
    "    \n",
    "    _, idxs = extract_image_tiles(\n",
    "        os.path.join(DATASET_IMAGES, f\"{name}.png\"),\n",
    "        folder_img, size=size, scale=scale,\n",
    "        drop_thr=drop_thr,\n",
    "    )\n",
    "    tiles_seg, _ = extract_image_tiles(\n",
    "        os.path.join(DATASET_MASKS, f\"{name}.png\"),\n",
    "        folder_seg, size=size, scale=scale,\n",
    "        drop_thr=None, inds=idxs,\n",
    "    )\n",
    "    tiles_mask = [\n",
    "        convert_rgb_to_labels(p, folder_mask) for p in tiles_seg\n",
    "    ]"
   ]
  },
  {
   "cell_type": "markdown",
   "id": "d82682a7",
   "metadata": {
    "papermill": {
     "duration": 0.053384,
     "end_time": "2023-12-22T06:56:37.451084",
     "exception": false,
     "start_time": "2023-12-22T06:56:37.397700",
     "status": "completed"
    },
    "tags": []
   },
   "source": [
    "Run the cutting in parallel with multiple workers"
   ]
  },
  {
   "cell_type": "code",
   "execution_count": 9,
   "id": "b5e471cd",
   "metadata": {
    "_kg_hide-output": true,
    "execution": {
     "iopub.execute_input": "2023-12-22T06:56:37.562336Z",
     "iopub.status.busy": "2023-12-22T06:56:37.561920Z",
     "iopub.status.idle": "2023-12-22T10:13:46.105131Z",
     "shell.execute_reply": "2023-12-22T10:13:46.099884Z"
    },
    "papermill": {
     "duration": 11828.612149,
     "end_time": "2023-12-22T10:13:46.117375",
     "exception": false,
     "start_time": "2023-12-22T06:56:37.505226",
     "status": "completed"
    },
    "tags": []
   },
   "outputs": [
    {
     "data": {
      "application/vnd.jupyter.widget-view+json": {
       "model_id": "61d60abec5ab4241ba127264cd1e9fc3",
       "version_major": 2,
       "version_minor": 0
      },
      "text/plain": [
       "  0%|          | 0/75 [00:00<?, ?it/s]"
      ]
     },
     "metadata": {},
     "output_type": "display_data"
    }
   ],
   "source": [
    "from tqdm.auto import tqdm\n",
    "from joblib import Parallel, delayed\n",
    "\n",
    "names = [os.path.splitext(os.path.basename(p))[0] for p in ls_masks]\n",
    "    \n",
    "_= Parallel(n_jobs=2)(\n",
    "    delayed(extract_tiles_masks)\n",
    "    (id_name, size=2048, drop_thr=0.6, scale=0.5)\n",
    "    for id_name in tqdm(enumerate(names), total=len(names))\n",
    ")"
   ]
  },
  {
   "cell_type": "markdown",
   "id": "a5857ab3",
   "metadata": {
    "papermill": {
     "duration": 0.055241,
     "end_time": "2023-12-22T10:13:46.237017",
     "exception": false,
     "start_time": "2023-12-22T10:13:46.181776",
     "status": "completed"
    },
    "tags": []
   },
   "source": [
    "## Show some samples"
   ]
  },
  {
   "cell_type": "code",
   "execution_count": 10,
   "id": "b0b0b285",
   "metadata": {
    "execution": {
     "iopub.execute_input": "2023-12-22T10:13:46.355188Z",
     "iopub.status.busy": "2023-12-22T10:13:46.353993Z",
     "iopub.status.idle": "2023-12-22T10:16:06.613856Z",
     "shell.execute_reply": "2023-12-22T10:16:06.612402Z"
    },
    "papermill": {
     "duration": 140.322683,
     "end_time": "2023-12-22T10:16:06.616503",
     "exception": false,
     "start_time": "2023-12-22T10:13:46.293820",
     "status": "completed"
    },
    "tags": []
   },
   "outputs": [
    {
     "data": {
      "application/vnd.jupyter.widget-view+json": {
       "model_id": "031b58aa4d9943788566e12cc85ae01d",
       "version_major": 2,
       "version_minor": 0
      },
      "text/plain": [
       "  0%|          | 0/17721 [00:00<?, ?it/s]"
      ]
     },
     "metadata": {},
     "output_type": "display_data"
    }
   ],
   "source": [
    "masks = sorted(glob.glob('/kaggle/tmp/train_masks/*/*.png'))\n",
    "\n",
    "imgs_with_masks = []\n",
    "for an in tqdm(masks):\n",
    "    img = Image.open(an)\n",
    "    if np.sum(np.array(img)==1)>0:\n",
    "        imgs_with_masks.append(an)"
   ]
  },
  {
   "cell_type": "code",
   "execution_count": 11,
   "id": "f1318e68",
   "metadata": {
    "execution": {
     "iopub.execute_input": "2023-12-22T10:16:06.724248Z",
     "iopub.status.busy": "2023-12-22T10:16:06.723777Z",
     "iopub.status.idle": "2023-12-22T10:19:22.157375Z",
     "shell.execute_reply": "2023-12-22T10:19:22.155735Z"
    },
    "papermill": {
     "duration": 195.491022,
     "end_time": "2023-12-22T10:19:22.160024",
     "exception": false,
     "start_time": "2023-12-22T10:16:06.669002",
     "status": "completed"
    },
    "tags": []
   },
   "outputs": [
    {
     "data": {
      "application/vnd.jupyter.widget-view+json": {
       "model_id": "982fb62c7a554e8399470733428a4817",
       "version_major": 2,
       "version_minor": 0
      },
      "text/plain": [
       "  0%|          | 0/7095 [00:00<?, ?it/s]"
      ]
     },
     "metadata": {},
     "output_type": "display_data"
    },
    {
     "name": "stdout",
     "output_type": "stream",
     "text": [
      "processing #0: 10143\n",
      "processing #3: 10252\n",
      "processing #4: 10800\n",
      "processing #6: 1101\n",
      "processing #7: 11263\n",
      "processing #9: 11557\n",
      "processing #10: 12442\n",
      "processing #14: 14401\n",
      "processing #16: 14542\n",
      "processing #17: 15139\n",
      "processing #19: 15209\n",
      "processing #22: 15671\n",
      "processing #23: 16064\n",
      "processing #25: 16876\n",
      "processing #27: 17174\n",
      "processing #29: 17738\n",
      "processing #30: 17854\n",
      "processing #33: 18607\n",
      "processing #34: 19030\n",
      "processing #35: 1925\n",
      "processing #37: 1952\n",
      "processing #38: 19569\n",
      "processing #40: 21432\n",
      "processing #43: 21929\n",
      "processing #44: 22155\n",
      "processing #47: 22425\n",
      "processing #48: 22489\n",
      "processing #50: 24617\n",
      "processing #52: 26219\n",
      "processing #55: 26950\n",
      "processing #57: 27315\n",
      "processing #58: 27950\n",
      "processing #60: 28562\n",
      "processing #63: 30738\n",
      "processing #64: 31033\n",
      "processing #66: 32432\n",
      "processing #67: 33708\n",
      "processing #69: 34247\n",
      "processing #71: 35239\n",
      "processing #74: 36499\n",
      "processing #1: 1020\n",
      "processing #2: 10246\n",
      "processing #5: 10896\n",
      "processing #8: 11431\n",
      "processing #11: 1252\n",
      "processing #12: 12522\n",
      "processing #13: 13987\n",
      "processing #15: 14424\n",
      "processing #18: 15188\n",
      "processing #20: 15470\n",
      "processing #21: 15486\n",
      "processing #24: 16325\n",
      "processing #26: 16986\n",
      "processing #28: 17291\n",
      "processing #31: 18138\n",
      "processing #32: 18568\n",
      "processing #36: 19255\n",
      "processing #39: 20316\n",
      "processing #41: 21445\n",
      "processing #42: 21910\n",
      "processing #45: 22221\n",
      "processing #46: 2227\n",
      "processing #49: 22740\n",
      "processing #51: 24759\n",
      "processing #53: 26533\n",
      "processing #54: 2666\n",
      "processing #56: 27245\n",
      "processing #59: 28393\n",
      "processing #61: 28821\n",
      "processing #62: 29200\n",
      "processing #65: 31383\n",
      "processing #68: 33976\n",
      "processing #70: 34277\n",
      "processing #72: 35754\n",
      "processing #73: 36063\n"
     ]
    }
   ],
   "source": [
    "!mkdir -p /kaggle/tmp/train_images_filter\n",
    "\n",
    "for p in tqdm(imgs_with_masks):\n",
    "    os.system(f'mkdir -p /kaggle/tmp/train_images_filter/{p.split(\"/\")[-2]}')\n",
    "    os.system(f'cp {p.replace(\"train_masks\", \"train_images\")} /kaggle/tmp/train_images_filter/{p.split(\"/\")[-2]}/')"
   ]
  },
  {
   "cell_type": "code",
   "execution_count": 12,
   "id": "09f38863",
   "metadata": {
    "execution": {
     "iopub.execute_input": "2023-12-22T10:19:22.271092Z",
     "iopub.status.busy": "2023-12-22T10:19:22.270620Z",
     "iopub.status.idle": "2023-12-22T10:30:49.308360Z",
     "shell.execute_reply": "2023-12-22T10:30:49.306115Z"
    },
    "papermill": {
     "duration": 687.098476,
     "end_time": "2023-12-22T10:30:49.312632",
     "exception": false,
     "start_time": "2023-12-22T10:19:22.214156",
     "status": "completed"
    },
    "tags": []
   },
   "outputs": [],
   "source": [
    "!tar -zcf train_images.tar.gz -C \"/kaggle/tmp/train_images_filter/\" ."
   ]
  }
 ],
 "metadata": {
  "kaggle": {
   "accelerator": "none",
   "dataSources": [
    {
     "databundleVersionId": 6924515,
     "sourceId": 45867,
     "sourceType": "competition"
    },
    {
     "datasetId": 3895136,
     "sourceId": 6774400,
     "sourceType": "datasetVersion"
    },
    {
     "datasetId": 4014175,
     "sourceId": 6984590,
     "sourceType": "datasetVersion"
    }
   ],
   "dockerImageVersionId": 30558,
   "isGpuEnabled": false,
   "isInternetEnabled": true,
   "language": "python",
   "sourceType": "notebook"
  },
  "kernelspec": {
   "display_name": "Python 3 (ipykernel)",
   "language": "python",
   "name": "python3"
  },
  "language_info": {
   "codemirror_mode": {
    "name": "ipython",
    "version": 3
   },
   "file_extension": ".py",
   "mimetype": "text/x-python",
   "name": "python",
   "nbconvert_exporter": "python",
   "pygments_lexer": "ipython3",
   "version": "3.11.5"
  },
  "papermill": {
   "default_parameters": {},
   "duration": 12953.042317,
   "end_time": "2023-12-22T10:30:52.107147",
   "environment_variables": {},
   "exception": null,
   "input_path": "__notebook__.ipynb",
   "output_path": "__notebook__.ipynb",
   "parameters": {},
   "start_time": "2023-12-22T06:54:59.064830",
   "version": "2.4.0"
  },
  "widgets": {
   "application/vnd.jupyter.widget-state+json": {
    "state": {
     "031b58aa4d9943788566e12cc85ae01d": {
      "model_module": "@jupyter-widgets/controls",
      "model_module_version": "1.5.0",
      "model_name": "HBoxModel",
      "state": {
       "_dom_classes": [],
       "_model_module": "@jupyter-widgets/controls",
       "_model_module_version": "1.5.0",
       "_model_name": "HBoxModel",
       "_view_count": null,
       "_view_module": "@jupyter-widgets/controls",
       "_view_module_version": "1.5.0",
       "_view_name": "HBoxView",
       "box_style": "",
       "children": [
        "IPY_MODEL_2b8d25847eb74a6ab248492c98479915",
        "IPY_MODEL_b1de742c53294cfcb19205f745285669",
        "IPY_MODEL_e9a7ada62c1144eeaf432839d753b4dd"
       ],
       "layout": "IPY_MODEL_1934cf7544e547aea06bbee61d6346cb"
      }
     },
     "0b39a5a33da8480888dfce833c798a9a": {
      "model_module": "@jupyter-widgets/base",
      "model_module_version": "1.2.0",
      "model_name": "LayoutModel",
      "state": {
       "_model_module": "@jupyter-widgets/base",
       "_model_module_version": "1.2.0",
       "_model_name": "LayoutModel",
       "_view_count": null,
       "_view_module": "@jupyter-widgets/base",
       "_view_module_version": "1.2.0",
       "_view_name": "LayoutView",
       "align_content": null,
       "align_items": null,
       "align_self": null,
       "border": null,
       "bottom": null,
       "display": null,
       "flex": null,
       "flex_flow": null,
       "grid_area": null,
       "grid_auto_columns": null,
       "grid_auto_flow": null,
       "grid_auto_rows": null,
       "grid_column": null,
       "grid_gap": null,
       "grid_row": null,
       "grid_template_areas": null,
       "grid_template_columns": null,
       "grid_template_rows": null,
       "height": null,
       "justify_content": null,
       "justify_items": null,
       "left": null,
       "margin": null,
       "max_height": null,
       "max_width": null,
       "min_height": null,
       "min_width": null,
       "object_fit": null,
       "object_position": null,
       "order": null,
       "overflow": null,
       "overflow_x": null,
       "overflow_y": null,
       "padding": null,
       "right": null,
       "top": null,
       "visibility": null,
       "width": null
      }
     },
     "0ebf6715274b48b9840d16e282c94bcf": {
      "model_module": "@jupyter-widgets/base",
      "model_module_version": "1.2.0",
      "model_name": "LayoutModel",
      "state": {
       "_model_module": "@jupyter-widgets/base",
       "_model_module_version": "1.2.0",
       "_model_name": "LayoutModel",
       "_view_count": null,
       "_view_module": "@jupyter-widgets/base",
       "_view_module_version": "1.2.0",
       "_view_name": "LayoutView",
       "align_content": null,
       "align_items": null,
       "align_self": null,
       "border": null,
       "bottom": null,
       "display": null,
       "flex": null,
       "flex_flow": null,
       "grid_area": null,
       "grid_auto_columns": null,
       "grid_auto_flow": null,
       "grid_auto_rows": null,
       "grid_column": null,
       "grid_gap": null,
       "grid_row": null,
       "grid_template_areas": null,
       "grid_template_columns": null,
       "grid_template_rows": null,
       "height": null,
       "justify_content": null,
       "justify_items": null,
       "left": null,
       "margin": null,
       "max_height": null,
       "max_width": null,
       "min_height": null,
       "min_width": null,
       "object_fit": null,
       "object_position": null,
       "order": null,
       "overflow": null,
       "overflow_x": null,
       "overflow_y": null,
       "padding": null,
       "right": null,
       "top": null,
       "visibility": null,
       "width": null
      }
     },
     "1934cf7544e547aea06bbee61d6346cb": {
      "model_module": "@jupyter-widgets/base",
      "model_module_version": "1.2.0",
      "model_name": "LayoutModel",
      "state": {
       "_model_module": "@jupyter-widgets/base",
       "_model_module_version": "1.2.0",
       "_model_name": "LayoutModel",
       "_view_count": null,
       "_view_module": "@jupyter-widgets/base",
       "_view_module_version": "1.2.0",
       "_view_name": "LayoutView",
       "align_content": null,
       "align_items": null,
       "align_self": null,
       "border": null,
       "bottom": null,
       "display": null,
       "flex": null,
       "flex_flow": null,
       "grid_area": null,
       "grid_auto_columns": null,
       "grid_auto_flow": null,
       "grid_auto_rows": null,
       "grid_column": null,
       "grid_gap": null,
       "grid_row": null,
       "grid_template_areas": null,
       "grid_template_columns": null,
       "grid_template_rows": null,
       "height": null,
       "justify_content": null,
       "justify_items": null,
       "left": null,
       "margin": null,
       "max_height": null,
       "max_width": null,
       "min_height": null,
       "min_width": null,
       "object_fit": null,
       "object_position": null,
       "order": null,
       "overflow": null,
       "overflow_x": null,
       "overflow_y": null,
       "padding": null,
       "right": null,
       "top": null,
       "visibility": null,
       "width": null
      }
     },
     "22efea4de35648f6a0c1187ded58d6d1": {
      "model_module": "@jupyter-widgets/base",
      "model_module_version": "1.2.0",
      "model_name": "LayoutModel",
      "state": {
       "_model_module": "@jupyter-widgets/base",
       "_model_module_version": "1.2.0",
       "_model_name": "LayoutModel",
       "_view_count": null,
       "_view_module": "@jupyter-widgets/base",
       "_view_module_version": "1.2.0",
       "_view_name": "LayoutView",
       "align_content": null,
       "align_items": null,
       "align_self": null,
       "border": null,
       "bottom": null,
       "display": null,
       "flex": null,
       "flex_flow": null,
       "grid_area": null,
       "grid_auto_columns": null,
       "grid_auto_flow": null,
       "grid_auto_rows": null,
       "grid_column": null,
       "grid_gap": null,
       "grid_row": null,
       "grid_template_areas": null,
       "grid_template_columns": null,
       "grid_template_rows": null,
       "height": null,
       "justify_content": null,
       "justify_items": null,
       "left": null,
       "margin": null,
       "max_height": null,
       "max_width": null,
       "min_height": null,
       "min_width": null,
       "object_fit": null,
       "object_position": null,
       "order": null,
       "overflow": null,
       "overflow_x": null,
       "overflow_y": null,
       "padding": null,
       "right": null,
       "top": null,
       "visibility": null,
       "width": null
      }
     },
     "2b8d25847eb74a6ab248492c98479915": {
      "model_module": "@jupyter-widgets/controls",
      "model_module_version": "1.5.0",
      "model_name": "HTMLModel",
      "state": {
       "_dom_classes": [],
       "_model_module": "@jupyter-widgets/controls",
       "_model_module_version": "1.5.0",
       "_model_name": "HTMLModel",
       "_view_count": null,
       "_view_module": "@jupyter-widgets/controls",
       "_view_module_version": "1.5.0",
       "_view_name": "HTMLView",
       "description": "",
       "description_tooltip": null,
       "layout": "IPY_MODEL_a05093d9d9694aad8b54aace916a43f1",
       "placeholder": "​",
       "style": "IPY_MODEL_a1ac3be226414a9eb89c35ce4eedbb9f",
       "value": "100%"
      }
     },
     "6088df1175b44a4fbf6cb82045a9c393": {
      "model_module": "@jupyter-widgets/base",
      "model_module_version": "1.2.0",
      "model_name": "LayoutModel",
      "state": {
       "_model_module": "@jupyter-widgets/base",
       "_model_module_version": "1.2.0",
       "_model_name": "LayoutModel",
       "_view_count": null,
       "_view_module": "@jupyter-widgets/base",
       "_view_module_version": "1.2.0",
       "_view_name": "LayoutView",
       "align_content": null,
       "align_items": null,
       "align_self": null,
       "border": null,
       "bottom": null,
       "display": null,
       "flex": null,
       "flex_flow": null,
       "grid_area": null,
       "grid_auto_columns": null,
       "grid_auto_flow": null,
       "grid_auto_rows": null,
       "grid_column": null,
       "grid_gap": null,
       "grid_row": null,
       "grid_template_areas": null,
       "grid_template_columns": null,
       "grid_template_rows": null,
       "height": null,
       "justify_content": null,
       "justify_items": null,
       "left": null,
       "margin": null,
       "max_height": null,
       "max_width": null,
       "min_height": null,
       "min_width": null,
       "object_fit": null,
       "object_position": null,
       "order": null,
       "overflow": null,
       "overflow_x": null,
       "overflow_y": null,
       "padding": null,
       "right": null,
       "top": null,
       "visibility": null,
       "width": null
      }
     },
     "616c9cad222b49449230461d0f9f869f": {
      "model_module": "@jupyter-widgets/base",
      "model_module_version": "1.2.0",
      "model_name": "LayoutModel",
      "state": {
       "_model_module": "@jupyter-widgets/base",
       "_model_module_version": "1.2.0",
       "_model_name": "LayoutModel",
       "_view_count": null,
       "_view_module": "@jupyter-widgets/base",
       "_view_module_version": "1.2.0",
       "_view_name": "LayoutView",
       "align_content": null,
       "align_items": null,
       "align_self": null,
       "border": null,
       "bottom": null,
       "display": null,
       "flex": null,
       "flex_flow": null,
       "grid_area": null,
       "grid_auto_columns": null,
       "grid_auto_flow": null,
       "grid_auto_rows": null,
       "grid_column": null,
       "grid_gap": null,
       "grid_row": null,
       "grid_template_areas": null,
       "grid_template_columns": null,
       "grid_template_rows": null,
       "height": null,
       "justify_content": null,
       "justify_items": null,
       "left": null,
       "margin": null,
       "max_height": null,
       "max_width": null,
       "min_height": null,
       "min_width": null,
       "object_fit": null,
       "object_position": null,
       "order": null,
       "overflow": null,
       "overflow_x": null,
       "overflow_y": null,
       "padding": null,
       "right": null,
       "top": null,
       "visibility": null,
       "width": null
      }
     },
     "61d60abec5ab4241ba127264cd1e9fc3": {
      "model_module": "@jupyter-widgets/controls",
      "model_module_version": "1.5.0",
      "model_name": "HBoxModel",
      "state": {
       "_dom_classes": [],
       "_model_module": "@jupyter-widgets/controls",
       "_model_module_version": "1.5.0",
       "_model_name": "HBoxModel",
       "_view_count": null,
       "_view_module": "@jupyter-widgets/controls",
       "_view_module_version": "1.5.0",
       "_view_name": "HBoxView",
       "box_style": "",
       "children": [
        "IPY_MODEL_dfb8d95f169c48819747247e036bf098",
        "IPY_MODEL_dd56292a07524e4987503e7753d57b06",
        "IPY_MODEL_7b21ec7593ef4dbbad7342151b355d2b"
       ],
       "layout": "IPY_MODEL_e1e5320a58bf4487a7a0884e6aac7a82"
      }
     },
     "75c63479d170482291b5b8c84a96c23d": {
      "model_module": "@jupyter-widgets/controls",
      "model_module_version": "1.5.0",
      "model_name": "HTMLModel",
      "state": {
       "_dom_classes": [],
       "_model_module": "@jupyter-widgets/controls",
       "_model_module_version": "1.5.0",
       "_model_name": "HTMLModel",
       "_view_count": null,
       "_view_module": "@jupyter-widgets/controls",
       "_view_module_version": "1.5.0",
       "_view_name": "HTMLView",
       "description": "",
       "description_tooltip": null,
       "layout": "IPY_MODEL_6088df1175b44a4fbf6cb82045a9c393",
       "placeholder": "​",
       "style": "IPY_MODEL_e632d530ce2e4633a98160b5fa61b2f5",
       "value": " 7095/7095 [03:14&lt;00:00, 67.68it/s]"
      }
     },
     "7b21ec7593ef4dbbad7342151b355d2b": {
      "model_module": "@jupyter-widgets/controls",
      "model_module_version": "1.5.0",
      "model_name": "HTMLModel",
      "state": {
       "_dom_classes": [],
       "_model_module": "@jupyter-widgets/controls",
       "_model_module_version": "1.5.0",
       "_model_name": "HTMLModel",
       "_view_count": null,
       "_view_module": "@jupyter-widgets/controls",
       "_view_module_version": "1.5.0",
       "_view_name": "HTMLView",
       "description": "",
       "description_tooltip": null,
       "layout": "IPY_MODEL_22efea4de35648f6a0c1187ded58d6d1",
       "placeholder": "​",
       "style": "IPY_MODEL_db6205323d1045f39909b9aea388c168",
       "value": " 75/75 [3:07:28&lt;00:00, 151.33s/it]"
      }
     },
     "7dc1a3ecd2d84eb5a01b29db9c58f08e": {
      "model_module": "@jupyter-widgets/base",
      "model_module_version": "1.2.0",
      "model_name": "LayoutModel",
      "state": {
       "_model_module": "@jupyter-widgets/base",
       "_model_module_version": "1.2.0",
       "_model_name": "LayoutModel",
       "_view_count": null,
       "_view_module": "@jupyter-widgets/base",
       "_view_module_version": "1.2.0",
       "_view_name": "LayoutView",
       "align_content": null,
       "align_items": null,
       "align_self": null,
       "border": null,
       "bottom": null,
       "display": null,
       "flex": null,
       "flex_flow": null,
       "grid_area": null,
       "grid_auto_columns": null,
       "grid_auto_flow": null,
       "grid_auto_rows": null,
       "grid_column": null,
       "grid_gap": null,
       "grid_row": null,
       "grid_template_areas": null,
       "grid_template_columns": null,
       "grid_template_rows": null,
       "height": null,
       "justify_content": null,
       "justify_items": null,
       "left": null,
       "margin": null,
       "max_height": null,
       "max_width": null,
       "min_height": null,
       "min_width": null,
       "object_fit": null,
       "object_position": null,
       "order": null,
       "overflow": null,
       "overflow_x": null,
       "overflow_y": null,
       "padding": null,
       "right": null,
       "top": null,
       "visibility": null,
       "width": null
      }
     },
     "8099559991314dcea50b77356df36c33": {
      "model_module": "@jupyter-widgets/controls",
      "model_module_version": "1.5.0",
      "model_name": "HTMLModel",
      "state": {
       "_dom_classes": [],
       "_model_module": "@jupyter-widgets/controls",
       "_model_module_version": "1.5.0",
       "_model_name": "HTMLModel",
       "_view_count": null,
       "_view_module": "@jupyter-widgets/controls",
       "_view_module_version": "1.5.0",
       "_view_name": "HTMLView",
       "description": "",
       "description_tooltip": null,
       "layout": "IPY_MODEL_616c9cad222b49449230461d0f9f869f",
       "placeholder": "​",
       "style": "IPY_MODEL_e6fe02dfe3844f4881f1fddc829aa66c",
       "value": "100%"
      }
     },
     "8483af5b28bd4ef7940686d44ee87c0c": {
      "model_module": "@jupyter-widgets/controls",
      "model_module_version": "1.5.0",
      "model_name": "DescriptionStyleModel",
      "state": {
       "_model_module": "@jupyter-widgets/controls",
       "_model_module_version": "1.5.0",
       "_model_name": "DescriptionStyleModel",
       "_view_count": null,
       "_view_module": "@jupyter-widgets/base",
       "_view_module_version": "1.2.0",
       "_view_name": "StyleView",
       "description_width": ""
      }
     },
     "8fc97cd640f1494e92adaacb82dba896": {
      "model_module": "@jupyter-widgets/base",
      "model_module_version": "1.2.0",
      "model_name": "LayoutModel",
      "state": {
       "_model_module": "@jupyter-widgets/base",
       "_model_module_version": "1.2.0",
       "_model_name": "LayoutModel",
       "_view_count": null,
       "_view_module": "@jupyter-widgets/base",
       "_view_module_version": "1.2.0",
       "_view_name": "LayoutView",
       "align_content": null,
       "align_items": null,
       "align_self": null,
       "border": null,
       "bottom": null,
       "display": null,
       "flex": null,
       "flex_flow": null,
       "grid_area": null,
       "grid_auto_columns": null,
       "grid_auto_flow": null,
       "grid_auto_rows": null,
       "grid_column": null,
       "grid_gap": null,
       "grid_row": null,
       "grid_template_areas": null,
       "grid_template_columns": null,
       "grid_template_rows": null,
       "height": null,
       "justify_content": null,
       "justify_items": null,
       "left": null,
       "margin": null,
       "max_height": null,
       "max_width": null,
       "min_height": null,
       "min_width": null,
       "object_fit": null,
       "object_position": null,
       "order": null,
       "overflow": null,
       "overflow_x": null,
       "overflow_y": null,
       "padding": null,
       "right": null,
       "top": null,
       "visibility": null,
       "width": null
      }
     },
     "90cea32723984e5b8327b229d77dff02": {
      "model_module": "@jupyter-widgets/controls",
      "model_module_version": "1.5.0",
      "model_name": "ProgressStyleModel",
      "state": {
       "_model_module": "@jupyter-widgets/controls",
       "_model_module_version": "1.5.0",
       "_model_name": "ProgressStyleModel",
       "_view_count": null,
       "_view_module": "@jupyter-widgets/base",
       "_view_module_version": "1.2.0",
       "_view_name": "StyleView",
       "bar_color": null,
       "description_width": ""
      }
     },
     "982fb62c7a554e8399470733428a4817": {
      "model_module": "@jupyter-widgets/controls",
      "model_module_version": "1.5.0",
      "model_name": "HBoxModel",
      "state": {
       "_dom_classes": [],
       "_model_module": "@jupyter-widgets/controls",
       "_model_module_version": "1.5.0",
       "_model_name": "HBoxModel",
       "_view_count": null,
       "_view_module": "@jupyter-widgets/controls",
       "_view_module_version": "1.5.0",
       "_view_name": "HBoxView",
       "box_style": "",
       "children": [
        "IPY_MODEL_8099559991314dcea50b77356df36c33",
        "IPY_MODEL_f2a8694a2a7f4709aa1e7c427db41309",
        "IPY_MODEL_75c63479d170482291b5b8c84a96c23d"
       ],
       "layout": "IPY_MODEL_0b39a5a33da8480888dfce833c798a9a"
      }
     },
     "a05093d9d9694aad8b54aace916a43f1": {
      "model_module": "@jupyter-widgets/base",
      "model_module_version": "1.2.0",
      "model_name": "LayoutModel",
      "state": {
       "_model_module": "@jupyter-widgets/base",
       "_model_module_version": "1.2.0",
       "_model_name": "LayoutModel",
       "_view_count": null,
       "_view_module": "@jupyter-widgets/base",
       "_view_module_version": "1.2.0",
       "_view_name": "LayoutView",
       "align_content": null,
       "align_items": null,
       "align_self": null,
       "border": null,
       "bottom": null,
       "display": null,
       "flex": null,
       "flex_flow": null,
       "grid_area": null,
       "grid_auto_columns": null,
       "grid_auto_flow": null,
       "grid_auto_rows": null,
       "grid_column": null,
       "grid_gap": null,
       "grid_row": null,
       "grid_template_areas": null,
       "grid_template_columns": null,
       "grid_template_rows": null,
       "height": null,
       "justify_content": null,
       "justify_items": null,
       "left": null,
       "margin": null,
       "max_height": null,
       "max_width": null,
       "min_height": null,
       "min_width": null,
       "object_fit": null,
       "object_position": null,
       "order": null,
       "overflow": null,
       "overflow_x": null,
       "overflow_y": null,
       "padding": null,
       "right": null,
       "top": null,
       "visibility": null,
       "width": null
      }
     },
     "a1ac3be226414a9eb89c35ce4eedbb9f": {
      "model_module": "@jupyter-widgets/controls",
      "model_module_version": "1.5.0",
      "model_name": "DescriptionStyleModel",
      "state": {
       "_model_module": "@jupyter-widgets/controls",
       "_model_module_version": "1.5.0",
       "_model_name": "DescriptionStyleModel",
       "_view_count": null,
       "_view_module": "@jupyter-widgets/base",
       "_view_module_version": "1.2.0",
       "_view_name": "StyleView",
       "description_width": ""
      }
     },
     "ad411434302446ae859b71308c3a16c8": {
      "model_module": "@jupyter-widgets/controls",
      "model_module_version": "1.5.0",
      "model_name": "ProgressStyleModel",
      "state": {
       "_model_module": "@jupyter-widgets/controls",
       "_model_module_version": "1.5.0",
       "_model_name": "ProgressStyleModel",
       "_view_count": null,
       "_view_module": "@jupyter-widgets/base",
       "_view_module_version": "1.2.0",
       "_view_name": "StyleView",
       "bar_color": null,
       "description_width": ""
      }
     },
     "b1de742c53294cfcb19205f745285669": {
      "model_module": "@jupyter-widgets/controls",
      "model_module_version": "1.5.0",
      "model_name": "FloatProgressModel",
      "state": {
       "_dom_classes": [],
       "_model_module": "@jupyter-widgets/controls",
       "_model_module_version": "1.5.0",
       "_model_name": "FloatProgressModel",
       "_view_count": null,
       "_view_module": "@jupyter-widgets/controls",
       "_view_module_version": "1.5.0",
       "_view_name": "ProgressView",
       "bar_style": "success",
       "description": "",
       "description_tooltip": null,
       "layout": "IPY_MODEL_dc0b61e378cf441991b7de0a94c4dd34",
       "max": 17721,
       "min": 0,
       "orientation": "horizontal",
       "style": "IPY_MODEL_90cea32723984e5b8327b229d77dff02",
       "value": 17721
      }
     },
     "b7665ddb670a4c85b3b56d14afd5b884": {
      "model_module": "@jupyter-widgets/controls",
      "model_module_version": "1.5.0",
      "model_name": "DescriptionStyleModel",
      "state": {
       "_model_module": "@jupyter-widgets/controls",
       "_model_module_version": "1.5.0",
       "_model_name": "DescriptionStyleModel",
       "_view_count": null,
       "_view_module": "@jupyter-widgets/base",
       "_view_module_version": "1.2.0",
       "_view_name": "StyleView",
       "description_width": ""
      }
     },
     "b86e5d7fdc9148b991f267c392400c85": {
      "model_module": "@jupyter-widgets/controls",
      "model_module_version": "1.5.0",
      "model_name": "ProgressStyleModel",
      "state": {
       "_model_module": "@jupyter-widgets/controls",
       "_model_module_version": "1.5.0",
       "_model_name": "ProgressStyleModel",
       "_view_count": null,
       "_view_module": "@jupyter-widgets/base",
       "_view_module_version": "1.2.0",
       "_view_name": "StyleView",
       "bar_color": null,
       "description_width": ""
      }
     },
     "da2142ee109d43d795345bb4dcd2b949": {
      "model_module": "@jupyter-widgets/base",
      "model_module_version": "1.2.0",
      "model_name": "LayoutModel",
      "state": {
       "_model_module": "@jupyter-widgets/base",
       "_model_module_version": "1.2.0",
       "_model_name": "LayoutModel",
       "_view_count": null,
       "_view_module": "@jupyter-widgets/base",
       "_view_module_version": "1.2.0",
       "_view_name": "LayoutView",
       "align_content": null,
       "align_items": null,
       "align_self": null,
       "border": null,
       "bottom": null,
       "display": null,
       "flex": null,
       "flex_flow": null,
       "grid_area": null,
       "grid_auto_columns": null,
       "grid_auto_flow": null,
       "grid_auto_rows": null,
       "grid_column": null,
       "grid_gap": null,
       "grid_row": null,
       "grid_template_areas": null,
       "grid_template_columns": null,
       "grid_template_rows": null,
       "height": null,
       "justify_content": null,
       "justify_items": null,
       "left": null,
       "margin": null,
       "max_height": null,
       "max_width": null,
       "min_height": null,
       "min_width": null,
       "object_fit": null,
       "object_position": null,
       "order": null,
       "overflow": null,
       "overflow_x": null,
       "overflow_y": null,
       "padding": null,
       "right": null,
       "top": null,
       "visibility": null,
       "width": null
      }
     },
     "db6205323d1045f39909b9aea388c168": {
      "model_module": "@jupyter-widgets/controls",
      "model_module_version": "1.5.0",
      "model_name": "DescriptionStyleModel",
      "state": {
       "_model_module": "@jupyter-widgets/controls",
       "_model_module_version": "1.5.0",
       "_model_name": "DescriptionStyleModel",
       "_view_count": null,
       "_view_module": "@jupyter-widgets/base",
       "_view_module_version": "1.2.0",
       "_view_name": "StyleView",
       "description_width": ""
      }
     },
     "dc0b61e378cf441991b7de0a94c4dd34": {
      "model_module": "@jupyter-widgets/base",
      "model_module_version": "1.2.0",
      "model_name": "LayoutModel",
      "state": {
       "_model_module": "@jupyter-widgets/base",
       "_model_module_version": "1.2.0",
       "_model_name": "LayoutModel",
       "_view_count": null,
       "_view_module": "@jupyter-widgets/base",
       "_view_module_version": "1.2.0",
       "_view_name": "LayoutView",
       "align_content": null,
       "align_items": null,
       "align_self": null,
       "border": null,
       "bottom": null,
       "display": null,
       "flex": null,
       "flex_flow": null,
       "grid_area": null,
       "grid_auto_columns": null,
       "grid_auto_flow": null,
       "grid_auto_rows": null,
       "grid_column": null,
       "grid_gap": null,
       "grid_row": null,
       "grid_template_areas": null,
       "grid_template_columns": null,
       "grid_template_rows": null,
       "height": null,
       "justify_content": null,
       "justify_items": null,
       "left": null,
       "margin": null,
       "max_height": null,
       "max_width": null,
       "min_height": null,
       "min_width": null,
       "object_fit": null,
       "object_position": null,
       "order": null,
       "overflow": null,
       "overflow_x": null,
       "overflow_y": null,
       "padding": null,
       "right": null,
       "top": null,
       "visibility": null,
       "width": null
      }
     },
     "dd56292a07524e4987503e7753d57b06": {
      "model_module": "@jupyter-widgets/controls",
      "model_module_version": "1.5.0",
      "model_name": "FloatProgressModel",
      "state": {
       "_dom_classes": [],
       "_model_module": "@jupyter-widgets/controls",
       "_model_module_version": "1.5.0",
       "_model_name": "FloatProgressModel",
       "_view_count": null,
       "_view_module": "@jupyter-widgets/controls",
       "_view_module_version": "1.5.0",
       "_view_name": "ProgressView",
       "bar_style": "success",
       "description": "",
       "description_tooltip": null,
       "layout": "IPY_MODEL_0ebf6715274b48b9840d16e282c94bcf",
       "max": 75,
       "min": 0,
       "orientation": "horizontal",
       "style": "IPY_MODEL_b86e5d7fdc9148b991f267c392400c85",
       "value": 75
      }
     },
     "dfb8d95f169c48819747247e036bf098": {
      "model_module": "@jupyter-widgets/controls",
      "model_module_version": "1.5.0",
      "model_name": "HTMLModel",
      "state": {
       "_dom_classes": [],
       "_model_module": "@jupyter-widgets/controls",
       "_model_module_version": "1.5.0",
       "_model_name": "HTMLModel",
       "_view_count": null,
       "_view_module": "@jupyter-widgets/controls",
       "_view_module_version": "1.5.0",
       "_view_name": "HTMLView",
       "description": "",
       "description_tooltip": null,
       "layout": "IPY_MODEL_da2142ee109d43d795345bb4dcd2b949",
       "placeholder": "​",
       "style": "IPY_MODEL_8483af5b28bd4ef7940686d44ee87c0c",
       "value": "100%"
      }
     },
     "e1e5320a58bf4487a7a0884e6aac7a82": {
      "model_module": "@jupyter-widgets/base",
      "model_module_version": "1.2.0",
      "model_name": "LayoutModel",
      "state": {
       "_model_module": "@jupyter-widgets/base",
       "_model_module_version": "1.2.0",
       "_model_name": "LayoutModel",
       "_view_count": null,
       "_view_module": "@jupyter-widgets/base",
       "_view_module_version": "1.2.0",
       "_view_name": "LayoutView",
       "align_content": null,
       "align_items": null,
       "align_self": null,
       "border": null,
       "bottom": null,
       "display": null,
       "flex": null,
       "flex_flow": null,
       "grid_area": null,
       "grid_auto_columns": null,
       "grid_auto_flow": null,
       "grid_auto_rows": null,
       "grid_column": null,
       "grid_gap": null,
       "grid_row": null,
       "grid_template_areas": null,
       "grid_template_columns": null,
       "grid_template_rows": null,
       "height": null,
       "justify_content": null,
       "justify_items": null,
       "left": null,
       "margin": null,
       "max_height": null,
       "max_width": null,
       "min_height": null,
       "min_width": null,
       "object_fit": null,
       "object_position": null,
       "order": null,
       "overflow": null,
       "overflow_x": null,
       "overflow_y": null,
       "padding": null,
       "right": null,
       "top": null,
       "visibility": null,
       "width": null
      }
     },
     "e632d530ce2e4633a98160b5fa61b2f5": {
      "model_module": "@jupyter-widgets/controls",
      "model_module_version": "1.5.0",
      "model_name": "DescriptionStyleModel",
      "state": {
       "_model_module": "@jupyter-widgets/controls",
       "_model_module_version": "1.5.0",
       "_model_name": "DescriptionStyleModel",
       "_view_count": null,
       "_view_module": "@jupyter-widgets/base",
       "_view_module_version": "1.2.0",
       "_view_name": "StyleView",
       "description_width": ""
      }
     },
     "e6fe02dfe3844f4881f1fddc829aa66c": {
      "model_module": "@jupyter-widgets/controls",
      "model_module_version": "1.5.0",
      "model_name": "DescriptionStyleModel",
      "state": {
       "_model_module": "@jupyter-widgets/controls",
       "_model_module_version": "1.5.0",
       "_model_name": "DescriptionStyleModel",
       "_view_count": null,
       "_view_module": "@jupyter-widgets/base",
       "_view_module_version": "1.2.0",
       "_view_name": "StyleView",
       "description_width": ""
      }
     },
     "e9a7ada62c1144eeaf432839d753b4dd": {
      "model_module": "@jupyter-widgets/controls",
      "model_module_version": "1.5.0",
      "model_name": "HTMLModel",
      "state": {
       "_dom_classes": [],
       "_model_module": "@jupyter-widgets/controls",
       "_model_module_version": "1.5.0",
       "_model_name": "HTMLModel",
       "_view_count": null,
       "_view_module": "@jupyter-widgets/controls",
       "_view_module_version": "1.5.0",
       "_view_name": "HTMLView",
       "description": "",
       "description_tooltip": null,
       "layout": "IPY_MODEL_7dc1a3ecd2d84eb5a01b29db9c58f08e",
       "placeholder": "​",
       "style": "IPY_MODEL_b7665ddb670a4c85b3b56d14afd5b884",
       "value": " 17721/17721 [02:20&lt;00:00, 146.01it/s]"
      }
     },
     "f2a8694a2a7f4709aa1e7c427db41309": {
      "model_module": "@jupyter-widgets/controls",
      "model_module_version": "1.5.0",
      "model_name": "FloatProgressModel",
      "state": {
       "_dom_classes": [],
       "_model_module": "@jupyter-widgets/controls",
       "_model_module_version": "1.5.0",
       "_model_name": "FloatProgressModel",
       "_view_count": null,
       "_view_module": "@jupyter-widgets/controls",
       "_view_module_version": "1.5.0",
       "_view_name": "ProgressView",
       "bar_style": "success",
       "description": "",
       "description_tooltip": null,
       "layout": "IPY_MODEL_8fc97cd640f1494e92adaacb82dba896",
       "max": 7095,
       "min": 0,
       "orientation": "horizontal",
       "style": "IPY_MODEL_ad411434302446ae859b71308c3a16c8",
       "value": 7095
      }
     }
    },
    "version_major": 2,
    "version_minor": 0
   }
  }
 },
 "nbformat": 4,
 "nbformat_minor": 5
}
